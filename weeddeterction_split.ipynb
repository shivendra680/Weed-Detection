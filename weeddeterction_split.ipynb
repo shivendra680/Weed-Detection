{
  "nbformat": 4,
  "nbformat_minor": 0,
  "metadata": {
    "colab": {
      "provenance": [],
      "mount_file_id": "1mwdA0EBAyydokmq_wN6ApPl4HmWCXM0g",
      "authorship_tag": "ABX9TyNolLkQGCW4Y+S8wC3bVmNy",
      "include_colab_link": true
    },
    "kernelspec": {
      "name": "python3",
      "display_name": "Python 3"
    },
    "language_info": {
      "name": "python"
    }
  },
  "cells": [
    {
      "cell_type": "markdown",
      "metadata": {
        "id": "view-in-github",
        "colab_type": "text"
      },
      "source": [
        "<a href=\"https://colab.research.google.com/github/shivendra680/Weed-Detection/blob/main/weeddeterction_split.ipynb\" target=\"_parent\"><img src=\"https://colab.research.google.com/assets/colab-badge.svg\" alt=\"Open In Colab\"/></a>"
      ]
    },
    {
      "cell_type": "code",
      "execution_count": 2,
      "metadata": {
        "id": "6hfqXgpC03zb"
      },
      "outputs": [],
      "source": [
        "import io\n",
        "import matplotlib.pyplot as plt\n",
        "from matplotlib import image\n",
        "from pathlib import Path\n",
        "import os.path\n",
        "import glob\n",
        "import cv2\n",
        "from PIL import Image\n",
        "import numpy as np\n",
        "import pandas as pd\n",
        "from keras.layers import concatenate\n",
        "from keras.engine.training import optimizer\n",
        "from sklearn.utils import shuffle\n",
        "from keras.layers import Input\n",
        "from keras.models import Model\n",
        "from tensorflow.keras.layers import Reshape\n",
        "from sklearn.model_selection import train_test_split\n",
        "from tensorflow.keras.utils import to_categorical\n",
        "from tensorflow.keras.models import Sequential\n",
        "from tensorflow.keras.layers import Conv2D, MaxPooling2D, Dense, Flatten, Concatenate\n",
        "from tensorflow.keras.preprocessing.image import ImageDataGenerator"
      ]
    },
    {
      "cell_type": "code",
      "source": [
        "labels = [\"broadleaf\", \"grass\", \"soil\", \"soybean\"]"
      ],
      "metadata": {
        "id": "5WICZdcl1aQF"
      },
      "execution_count": 3,
      "outputs": []
    },
    {
      "cell_type": "code",
      "source": [
        "X  =[] \n",
        "Y = [] \n",
        "image_size = (227, 227)\n",
        "\n",
        "for i in labels:\n",
        "    Datasetspath = \"/content/drive/MyDrive/dataset/\" + i + \"/\"\n",
        "    print(Datasetspath)\n",
        "    fileRead = glob.glob(Datasetspath + \"*\")\n",
        "    print(len(fileRead))\n",
        "    \n",
        "    for file in fileRead:\n",
        "        image = cv2.imread(file)\n",
        "        img = cv2.resize(image, image_size)\n",
        "        X.append(img)\n",
        "        Y.append(i)\n",
        "X = np.array(X)\n",
        "Y = np.array(Y)"
      ],
      "metadata": {
        "colab": {
          "base_uri": "https://localhost:8080/"
        },
        "id": "O6cBLoWB1eCO",
        "outputId": "f6fd33ea-4675-45e2-b496-b2fc4bde5c1f"
      },
      "execution_count": 4,
      "outputs": [
        {
          "output_type": "stream",
          "name": "stdout",
          "text": [
            "/content/drive/MyDrive/dataset/broadleaf/\n",
            "1191\n",
            "/content/drive/MyDrive/dataset/grass/\n",
            "3520\n",
            "/content/drive/MyDrive/dataset/soil/\n",
            "3249\n",
            "/content/drive/MyDrive/dataset/soybean/\n",
            "7376\n"
          ]
        }
      ]
    },
    {
      "cell_type": "code",
      "source": [
        "for i in labels:\n",
        "    Datasetspath =\"/content/drive/MyDrive/dataset/\"+i+\"/\"\n",
        "    print(Datasetspath)\n",
        "    fileRead = glob.glob(Datasetspath + \"*\")\n",
        "    print(fileRead[1])"
      ],
      "metadata": {
        "colab": {
          "base_uri": "https://localhost:8080/"
        },
        "id": "YmXIToYf7FPA",
        "outputId": "8ec4c773-fba2-480b-bd77-0247d31d546e"
      },
      "execution_count": 5,
      "outputs": [
        {
          "output_type": "stream",
          "name": "stdout",
          "text": [
            "/content/drive/MyDrive/dataset/broadleaf/\n",
            "/content/drive/MyDrive/dataset/broadleaf/1146.tif\n",
            "/content/drive/MyDrive/dataset/grass/\n",
            "/content/drive/MyDrive/dataset/grass/324.tif\n",
            "/content/drive/MyDrive/dataset/soil/\n",
            "/content/drive/MyDrive/dataset/soil/3016.tif\n",
            "/content/drive/MyDrive/dataset/soybean/\n",
            "/content/drive/MyDrive/dataset/soybean/6704.tif\n"
          ]
        }
      ]
    },
    {
      "cell_type": "code",
      "source": [
        "Temp_y = []\n",
        "for i in Y:\n",
        "    Temp_y.append(labels.index(i))\n",
        "Y = to_categorical(Temp_y)\n",
        "Y[0]"
      ],
      "metadata": {
        "colab": {
          "base_uri": "https://localhost:8080/"
        },
        "id": "7MJhw2v67Lk7",
        "outputId": "2159e70c-367c-423f-8afb-5f92696356f8"
      },
      "execution_count": 6,
      "outputs": [
        {
          "output_type": "execute_result",
          "data": {
            "text/plain": [
              "array([1., 0., 0., 0.], dtype=float32)"
            ]
          },
          "metadata": {},
          "execution_count": 6
        }
      ]
    },
    {
      "cell_type": "code",
      "source": [
        "X_train, X_test, Y_train, Y_test = train_test_split(X, Y, test_size = 0.3, random_state=101)"
      ],
      "metadata": {
        "id": "mYd9FLsL7ObT"
      },
      "execution_count": 7,
      "outputs": []
    },
    {
      "cell_type": "code",
      "source": [
        "X_train.shape, Y_train.shape"
      ],
      "metadata": {
        "colab": {
          "base_uri": "https://localhost:8080/"
        },
        "id": "3ROSgT_x7SFe",
        "outputId": "5f4cf120-50a5-4f1d-abd2-2d770c70009a"
      },
      "execution_count": 8,
      "outputs": [
        {
          "output_type": "execute_result",
          "data": {
            "text/plain": [
              "((10735, 227, 227, 3), (10735, 4))"
            ]
          },
          "metadata": {},
          "execution_count": 8
        }
      ]
    },
    {
      "cell_type": "code",
      "source": [
        "X_test.shape, Y_test.shape"
      ],
      "metadata": {
        "colab": {
          "base_uri": "https://localhost:8080/"
        },
        "id": "br4Ua-_y7TWP",
        "outputId": "36e132cb-35a5-4740-fdd9-84f4ac0012e9"
      },
      "execution_count": 9,
      "outputs": [
        {
          "output_type": "execute_result",
          "data": {
            "text/plain": [
              "((4601, 227, 227, 3), (4601, 4))"
            ]
          },
          "metadata": {},
          "execution_count": 9
        }
      ]
    },
    {
      "cell_type": "code",
      "source": [
        "model1 = Sequential([\n",
        "Conv2D(20,kernel_size=(5,5), activation = 'relu', input_shape=(227,227,3)),\n",
        "MaxPooling2D((2,2)),\n",
        "\n",
        "Conv2D(30,kernel_size=(3,3), activation = 'relu'),\n",
        "MaxPooling2D((2,2)),\n",
        "\n",
        "Conv2D(40,kernel_size=(3,3), activation = 'relu'),\n",
        "MaxPooling2D((2,2)),\n",
        "\n",
        "Conv2D(50,kernel_size=(3,3), activation = 'relu'),\n",
        "MaxPooling2D((2,2)),\n",
        "\n",
        "Conv2D(60,kernel_size=(3,3), activation = 'relu'),\n",
        "MaxPooling2D((2,2)),\n",
        "Flatten(),\n",
        "Dense(128, activation = 'relu'),\n",
        "Dense(4, activation = 'softmax')])"
      ],
      "metadata": {
        "id": "nGZCInjC7iOi"
      },
      "execution_count": 9,
      "outputs": []
    },
    {
      "cell_type": "code",
      "source": [
        "model1.summary()"
      ],
      "metadata": {
        "colab": {
          "base_uri": "https://localhost:8080/"
        },
        "id": "-BykBOET7tcb",
        "outputId": "b50a0e52-b4ef-4849-9efe-c8515bbb0690"
      },
      "execution_count": 10,
      "outputs": [
        {
          "output_type": "stream",
          "name": "stdout",
          "text": [
            "Model: \"sequential\"\n",
            "_________________________________________________________________\n",
            " Layer (type)                Output Shape              Param #   \n",
            "=================================================================\n",
            " conv2d (Conv2D)             (None, 223, 223, 20)      1520      \n",
            "                                                                 \n",
            " max_pooling2d (MaxPooling2D  (None, 111, 111, 20)     0         \n",
            " )                                                               \n",
            "                                                                 \n",
            " conv2d_1 (Conv2D)           (None, 109, 109, 30)      5430      \n",
            "                                                                 \n",
            " max_pooling2d_1 (MaxPooling  (None, 54, 54, 30)       0         \n",
            " 2D)                                                             \n",
            "                                                                 \n",
            " conv2d_2 (Conv2D)           (None, 52, 52, 40)        10840     \n",
            "                                                                 \n",
            " max_pooling2d_2 (MaxPooling  (None, 26, 26, 40)       0         \n",
            " 2D)                                                             \n",
            "                                                                 \n",
            " conv2d_3 (Conv2D)           (None, 24, 24, 50)        18050     \n",
            "                                                                 \n",
            " max_pooling2d_3 (MaxPooling  (None, 12, 12, 50)       0         \n",
            " 2D)                                                             \n",
            "                                                                 \n",
            " conv2d_4 (Conv2D)           (None, 10, 10, 60)        27060     \n",
            "                                                                 \n",
            " max_pooling2d_4 (MaxPooling  (None, 5, 5, 60)         0         \n",
            " 2D)                                                             \n",
            "                                                                 \n",
            " flatten (Flatten)           (None, 1500)              0         \n",
            "                                                                 \n",
            " dense (Dense)               (None, 128)               192128    \n",
            "                                                                 \n",
            " dense_1 (Dense)             (None, 4)                 516       \n",
            "                                                                 \n",
            "=================================================================\n",
            "Total params: 255,544\n",
            "Trainable params: 255,544\n",
            "Non-trainable params: 0\n",
            "_________________________________________________________________\n"
          ]
        }
      ]
    },
    {
      "cell_type": "code",
      "source": [
        "from keras.optimizers.legacy.adam import Adam\n",
        "optimizer = Adam(learning_rate=0.0001)\n",
        "model1.compile(loss='categorical_crossentropy',\n",
        "                     optimizer=optimizer,\n",
        "                     metrics=['accuracy'])"
      ],
      "metadata": {
        "id": "hRfqFGbp74-N"
      },
      "execution_count": 11,
      "outputs": []
    },
    {
      "cell_type": "code",
      "source": [
        "history = model1.fit(X_train, Y_train, validation_data=(X_test, Y_test), epochs = 10, batch_size = 2, verbose = 1)"
      ],
      "metadata": {
        "colab": {
          "base_uri": "https://localhost:8080/"
        },
        "id": "aO_kHcuB8Bdx",
        "outputId": "42c0fd1c-3d6d-42d4-ea4d-a095dd36691e"
      },
      "execution_count": 12,
      "outputs": [
        {
          "output_type": "stream",
          "name": "stdout",
          "text": [
            "Epoch 1/10\n",
            "5368/5368 [==============================] - 690s 128ms/step - loss: 0.5173 - accuracy: 0.8197 - val_loss: 0.4016 - val_accuracy: 0.8444\n",
            "Epoch 2/10\n",
            "5368/5368 [==============================] - 691s 129ms/step - loss: 0.2836 - accuracy: 0.8924 - val_loss: 0.2243 - val_accuracy: 0.9133\n",
            "Epoch 3/10\n",
            "5368/5368 [==============================] - 683s 127ms/step - loss: 0.2198 - accuracy: 0.9204 - val_loss: 0.1867 - val_accuracy: 0.9276\n",
            "Epoch 4/10\n",
            "5368/5368 [==============================] - 681s 127ms/step - loss: 0.1880 - accuracy: 0.9293 - val_loss: 0.1698 - val_accuracy: 0.9318\n",
            "Epoch 5/10\n",
            "5368/5368 [==============================] - 680s 127ms/step - loss: 0.1552 - accuracy: 0.9440 - val_loss: 0.1732 - val_accuracy: 0.9398\n",
            "Epoch 6/10\n",
            "5368/5368 [==============================] - 681s 127ms/step - loss: 0.1233 - accuracy: 0.9525 - val_loss: 0.1616 - val_accuracy: 0.9394\n",
            "Epoch 7/10\n",
            "5368/5368 [==============================] - 678s 126ms/step - loss: 0.1028 - accuracy: 0.9614 - val_loss: 0.1455 - val_accuracy: 0.9478\n",
            "Epoch 8/10\n",
            "5368/5368 [==============================] - 678s 126ms/step - loss: 0.0952 - accuracy: 0.9652 - val_loss: 0.1727 - val_accuracy: 0.9422\n",
            "Epoch 9/10\n",
            "5368/5368 [==============================] - 680s 127ms/step - loss: 0.0884 - accuracy: 0.9696 - val_loss: 0.1543 - val_accuracy: 0.9491\n",
            "Epoch 10/10\n",
            "5368/5368 [==============================] - 679s 127ms/step - loss: 0.0707 - accuracy: 0.9756 - val_loss: 0.1997 - val_accuracy: 0.9348\n"
          ]
        }
      ]
    },
    {
      "cell_type": "code",
      "source": [
        "ax = plt.gca()\n",
        "ax.set_ylim([0, 1])\n",
        "print(\"Model Accuracy\\n\")\n",
        "plt.plot(history.history['accuracy'])\n",
        "plt.plot(history.history['val_accuracy'])\n",
        "plt.title('Model Accuracy')\n",
        "plt.ylabel('Accuracy')\n",
        "plt.xlabel('Epochs')\n",
        "plt.legend(['Train', 'Validation'])\n",
        "plt.show()"
      ],
      "metadata": {
        "colab": {
          "base_uri": "https://localhost:8080/",
          "height": 509
        },
        "id": "s35UZLAOF6SO",
        "outputId": "1d5a8c10-9a7f-4347-9d0e-ff102e635f2c"
      },
      "execution_count": 13,
      "outputs": [
        {
          "output_type": "stream",
          "name": "stdout",
          "text": [
            "Model Accuracy\n",
            "\n"
          ]
        },
        {
          "output_type": "display_data",
          "data": {
            "text/plain": [
              "<Figure size 640x480 with 1 Axes>"
            ],
            "image/png": "[encoded data removed]"
          },
          "metadata": {}
        }
      ]
    },
    {
      "cell_type": "code",
      "source": [
        "ax = plt.gca()\n",
        "# ax.set_ylim([0, 1])\n",
        "print(\"Model Loss\\n\")\n",
        "plt.plot(history.history['loss'])\n",
        "plt.plot(history.history['val_loss'])\n",
        "plt.title('Model Loss')\n",
        "plt.ylabel('Loss')\n",
        "plt.xlabel('Epochs')\n",
        "plt.legend(['Train', 'Validation'], loc='upper left')\n",
        "plt.show()"
      ],
      "metadata": {
        "colab": {
          "base_uri": "https://localhost:8080/",
          "height": 509
        },
        "id": "DdjreVRHF-oR",
        "outputId": "07640e8f-080b-47a6-e527-dafe0d774568"
      },
      "execution_count": 14,
      "outputs": [
        {
          "output_type": "stream",
          "name": "stdout",
          "text": [
            "Model Loss\n",
            "\n"
          ]
        },
        {
          "output_type": "display_data",
          "data": {
            "text/plain": [
              "<Figure size 640x480 with 1 Axes>"
            ],
            "image/png": "[encoded data removed]"
          },
          "metadata": {}
        }
      ]
    },
    {
      "cell_type": "code",
      "source": [
        "model2 = Sequential([\n",
        "Conv2D(20,kernel_size=(5,5), activation = 'relu', dilation_rate=(3), input_shape=(227,227,3)),\n",
        "MaxPooling2D((2,2)),\n",
        "\n",
        "Conv2D(30,kernel_size=(3,3), activation = 'relu',dilation_rate=(2)),\n",
        "MaxPooling2D((2,2)),\n",
        "\n",
        "Conv2D(40,kernel_size=(3,3), activation = 'relu',dilation_rate=(2)),\n",
        "MaxPooling2D((2,2)),\n",
        "\n",
        "Conv2D(50,kernel_size=(3,3), activation = 'relu',dilation_rate=(1)),\n",
        "MaxPooling2D((2,2)),\n",
        "\n",
        "Conv2D(60,kernel_size=(3,3), activation = 'relu',dilation_rate=(1)),\n",
        "MaxPooling2D((2,2)),\n",
        "Flatten(),\n",
        "Dense(128, activation = 'relu'),\n",
        "Dense(4, activation = 'softmax')])"
      ],
      "metadata": {
        "id": "nlAyr8l2boY5"
      },
      "execution_count": 10,
      "outputs": []
    },
    {
      "cell_type": "code",
      "source": [
        "model2.summary()"
      ],
      "metadata": {
        "colab": {
          "base_uri": "https://localhost:8080/"
        },
        "id": "XReGez-xcTAA",
        "outputId": "1e8e95c7-f8dc-4ffd-bae3-780951133305"
      },
      "execution_count": 11,
      "outputs": [
        {
          "output_type": "stream",
          "name": "stdout",
          "text": [
            "Model: \"sequential\"\n",
            "_________________________________________________________________\n",
            " Layer (type)                Output Shape              Param #   \n",
            "=================================================================\n",
            " conv2d (Conv2D)             (None, 215, 215, 20)      1520      \n",
            "                                                                 \n",
            " max_pooling2d (MaxPooling2D  (None, 107, 107, 20)     0         \n",
            " )                                                               \n",
            "                                                                 \n",
            " conv2d_1 (Conv2D)           (None, 103, 103, 30)      5430      \n",
            "                                                                 \n",
            " max_pooling2d_1 (MaxPooling  (None, 51, 51, 30)       0         \n",
            " 2D)                                                             \n",
            "                                                                 \n",
            " conv2d_2 (Conv2D)           (None, 47, 47, 40)        10840     \n",
            "                                                                 \n",
            " max_pooling2d_2 (MaxPooling  (None, 23, 23, 40)       0         \n",
            " 2D)                                                             \n",
            "                                                                 \n",
            " conv2d_3 (Conv2D)           (None, 21, 21, 50)        18050     \n",
            "                                                                 \n",
            " max_pooling2d_3 (MaxPooling  (None, 10, 10, 50)       0         \n",
            " 2D)                                                             \n",
            "                                                                 \n",
            " conv2d_4 (Conv2D)           (None, 8, 8, 60)          27060     \n",
            "                                                                 \n",
            " max_pooling2d_4 (MaxPooling  (None, 4, 4, 60)         0         \n",
            " 2D)                                                             \n",
            "                                                                 \n",
            " flatten (Flatten)           (None, 960)               0         \n",
            "                                                                 \n",
            " dense (Dense)               (None, 128)               123008    \n",
            "                                                                 \n",
            " dense_1 (Dense)             (None, 4)                 516       \n",
            "                                                                 \n",
            "=================================================================\n",
            "Total params: 186,424\n",
            "Trainable params: 186,424\n",
            "Non-trainable params: 0\n",
            "_________________________________________________________________\n"
          ]
        }
      ]
    },
    {
      "cell_type": "code",
      "source": [
        "from keras.optimizers.legacy.adam import Adam\n",
        "optimizer = Adam(learning_rate=0.0001)\n",
        "model2.compile(loss='categorical_crossentropy',\n",
        "                     optimizer=optimizer,\n",
        "                     metrics=['accuracy'])"
      ],
      "metadata": {
        "id": "OV3zh6J6cgp9"
      },
      "execution_count": 12,
      "outputs": []
    },
    {
      "cell_type": "code",
      "source": [
        "history = model2.fit(X_train, Y_train, validation_data=(X_test, Y_test), epochs = 10, batch_size = 2, verbose = 1)"
      ],
      "metadata": {
        "colab": {
          "base_uri": "https://localhost:8080/"
        },
        "id": "pByqIKRwcjM-",
        "outputId": "0cd8abc3-11ea-4d01-ad35-3435d7b3371a"
      },
      "execution_count": 13,
      "outputs": [
        {
          "output_type": "stream",
          "name": "stdout",
          "text": [
            "Epoch 1/10\n",
            "5368/5368 [==============================] - 681s 127ms/step - loss: 0.5839 - accuracy: 0.8010 - val_loss: 0.2675 - val_accuracy: 0.8883\n",
            "Epoch 2/10\n",
            "5368/5368 [==============================] - 680s 127ms/step - loss: 0.3278 - accuracy: 0.8728 - val_loss: 0.2526 - val_accuracy: 0.8868\n",
            "Epoch 3/10\n",
            "5368/5368 [==============================] - 679s 127ms/step - loss: 0.2664 - accuracy: 0.8968 - val_loss: 0.2235 - val_accuracy: 0.9111\n",
            "Epoch 4/10\n",
            "5368/5368 [==============================] - 677s 126ms/step - loss: 0.2302 - accuracy: 0.9121 - val_loss: 0.2198 - val_accuracy: 0.9174\n",
            "Epoch 5/10\n",
            "5368/5368 [==============================] - 677s 126ms/step - loss: 0.1935 - accuracy: 0.9240 - val_loss: 0.2010 - val_accuracy: 0.9278\n",
            "Epoch 6/10\n",
            "5368/5368 [==============================] - 734s 137ms/step - loss: 0.1743 - accuracy: 0.9362 - val_loss: 0.1888 - val_accuracy: 0.9296\n",
            "Epoch 7/10\n",
            "5368/5368 [==============================] - 677s 126ms/step - loss: 0.1421 - accuracy: 0.9470 - val_loss: 0.2008 - val_accuracy: 0.9194\n",
            "Epoch 8/10\n",
            "5368/5368 [==============================] - 735s 137ms/step - loss: 0.1242 - accuracy: 0.9544 - val_loss: 0.1960 - val_accuracy: 0.9315\n",
            "Epoch 9/10\n",
            "5368/5368 [==============================] - 675s 126ms/step - loss: 0.1020 - accuracy: 0.9605 - val_loss: 0.2613 - val_accuracy: 0.9115\n",
            "Epoch 10/10\n",
            "5368/5368 [==============================] - 680s 127ms/step - loss: 0.0928 - accuracy: 0.9664 - val_loss: 0.2144 - val_accuracy: 0.9272\n"
          ]
        }
      ]
    },
    {
      "cell_type": "code",
      "source": [
        "ax = plt.gca()\n",
        "ax.set_ylim([0, 1])\n",
        "print(\"Model Accuracy\\n\")\n",
        "plt.plot(history.history['accuracy'])\n",
        "plt.plot(history.history['val_accuracy'])\n",
        "plt.title('Model Accuracy')\n",
        "plt.ylabel('Accuracy')\n",
        "plt.xlabel('Epochs')\n",
        "plt.legend(['Train', 'Validation'])\n",
        "plt.show()"
      ],
      "metadata": {
        "colab": {
          "base_uri": "https://localhost:8080/",
          "height": 509
        },
        "id": "AC6_GxpM_5Wc",
        "outputId": "22891477-de99-464d-d658-83e9c766e90e"
      },
      "execution_count": 14,
      "outputs": [
        {
          "output_type": "stream",
          "name": "stdout",
          "text": [
            "Model Accuracy\n",
            "\n"
          ]
        },
        {
          "output_type": "display_data",
          "data": {
            "text/plain": [
              "<Figure size 640x480 with 1 Axes>"
            ],
            "image/png": "[encoded data removed]"
          },
          "metadata": {}
        }
      ]
    },
    {
      "cell_type": "code",
      "source": [
        "ax = plt.gca()\n",
        "# ax.set_ylim([0, 1])\n",
        "print(\"Model Loss\\n\")\n",
        "plt.plot(history.history['loss'])\n",
        "plt.plot(history.history['val_loss'])\n",
        "plt.title('Model Loss')\n",
        "plt.ylabel('Loss')\n",
        "plt.xlabel('Epochs')\n",
        "plt.legend(['Train', 'Validation'], loc='upper left')\n",
        "plt.show()"
      ],
      "metadata": {
        "colab": {
          "base_uri": "https://localhost:8080/",
          "height": 509
        },
        "id": "p7vccjYoACKl",
        "outputId": "1a5f7264-f900-4e1d-e151-4a4c11e560c5"
      },
      "execution_count": 15,
      "outputs": [
        {
          "output_type": "stream",
          "name": "stdout",
          "text": [
            "Model Loss\n",
            "\n"
          ]
        },
        {
          "output_type": "display_data",
          "data": {
            "text/plain": [
              "<Figure size 640x480 with 1 Axes>"
            ],
            "image/png": "[encoded data removed]"
          },
          "metadata": {}
        }
      ]
    }
  ]
}